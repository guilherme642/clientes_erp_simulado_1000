{
 "cells": [
  {
   "cell_type": "markdown",
   "id": "11e06683",
   "metadata": {},
   "source": [
    "Imports"
   ]
  },
  {
   "cell_type": "code",
   "execution_count": 76,
   "id": "c129a42c",
   "metadata": {},
   "outputs": [],
   "source": [
    "import openpyxl\n",
    "import re\n",
    "import csv\n",
    "import pandas as pd\n",
    "from unidecode import unidecode\n",
    "import datetime\n",
    "import numpy as np"
   ]
  },
  {
   "cell_type": "markdown",
   "id": "f1a465b9",
   "metadata": {},
   "source": [
    "Xlsx para csv"
   ]
  },
  {
   "cell_type": "code",
   "execution_count": 77,
   "id": "babfe8fd",
   "metadata": {},
   "outputs": [],
   "source": [
    "path = \"../raw_data/clientes_erp_simulado_1000.xlsx\"\n",
    "wb = openpyxl.load_workbook(path)\n",
    "ws = wb.active\n",
    "with open(\"../processing_data/0csv_base.csv\", \"w\") as file:\n",
    "    writer = csv.writer(file)\n",
    "    for row in ws.iter_rows(max_col=6):\n",
    "        new_row = []\n",
    "        for cell in row:\n",
    "            new_row.append(cell.value or \"None\")\n",
    "        writer.writerow(new_row)"
   ]
  },
  {
   "cell_type": "markdown",
   "id": "f274987a",
   "metadata": {},
   "source": [
    "Retirada de informações extras"
   ]
  },
  {
   "cell_type": "code",
   "execution_count": 78,
   "id": "add47b78",
   "metadata": {},
   "outputs": [],
   "source": [
    "df = pd.read_csv(\"../processing_data/0csv_base.csv\")\n",
    "new_df = df.copy()\n",
    "\n",
    "new_df.drop(\"Observações\", axis = 1, inplace = True)\n",
    "new_df.drop(\"Extra Info\", axis = 1, inplace = True)\n",
    "new_df.columns\n",
    "new_df.to_csv(\"../processing_data/1sem_extra_info.csv\", index=False)"
   ]
  },
  {
   "cell_type": "markdown",
   "id": "65727f95",
   "metadata": {},
   "source": [
    "Deixar textos em letras maiuscúlas"
   ]
  },
  {
   "cell_type": "code",
   "execution_count": 79,
   "id": "20361b4a",
   "metadata": {},
   "outputs": [],
   "source": [
    "df = pd.read_csv(\"../processing_data/1sem_extra_info.csv\")\n",
    "with open(\"../processing_data/2upperall.csv\", \"w\") as file:\n",
    "    writer = csv.writer(file)\n",
    "    writer.writerow(df.columns)\n",
    "    for row in df.values.tolist():\n",
    "        row[2] = row[2].upper()\n",
    "        row[0] = row[0].upper()\n",
    "        writer.writerow(row)"
   ]
  },
  {
   "cell_type": "markdown",
   "id": "2485b4be",
   "metadata": {},
   "source": [
    "Padronizar número de telefone"
   ]
  },
  {
   "cell_type": "code",
   "execution_count": 80,
   "id": "28f2d968",
   "metadata": {},
   "outputs": [],
   "source": [
    "df = pd.read_csv(\"../processing_data/2upperall.csv\")\n",
    "with open(\"../processing_data/3telefone_padronizado.csv\", \"w\") as file:\n",
    "    writer = csv.writer(file)\n",
    "    writer.writerow(df.columns)\n",
    "    for row in df.values.tolist():\n",
    "        number = \"\"\n",
    "        regex_digitos = re.findall(\"[0-9]\", row[1])\n",
    "        while len(regex_digitos) >= 11:\n",
    "            regex_digitos.pop(0)\n",
    "        regex_parenteses = re.search(\"[()]\", str(regex_digitos))\n",
    "        if len(regex_digitos) < 11:\n",
    "            if regex_parenteses == None:\n",
    "                regex_digitos.insert(0, \"(\")\n",
    "                regex_digitos.insert(3, \")\")\n",
    "            regex_digitos.insert(4, \"9\")\n",
    "        for num in regex_digitos:\n",
    "            number += num\n",
    "        row[1] = number\n",
    "        writer.writerow(row)"
   ]
  },
  {
   "cell_type": "markdown",
   "id": "99413149",
   "metadata": {},
   "source": [
    "Remover duplicatas"
   ]
  },
  {
   "cell_type": "code",
   "execution_count": 81,
   "id": "12e9a72f",
   "metadata": {},
   "outputs": [],
   "source": [
    "df = pd.read_csv(\"../processing_data/3telefone_padronizado.csv\")\n",
    "df.drop_duplicates(inplace=True)\n",
    "with open(\"../processing_data/4sem_duplicatas.csv\", \"w\") as file:\n",
    "    writer = csv.writer(file)\n",
    "    writer.writerow(df.columns)\n",
    "    writer.writerows(df.values.tolist())"
   ]
  },
  {
   "cell_type": "markdown",
   "id": "2c7ded4d",
   "metadata": {},
   "source": [
    "Remover Acentos"
   ]
  },
  {
   "cell_type": "code",
   "execution_count": 82,
   "id": "209b756d",
   "metadata": {},
   "outputs": [],
   "source": [
    "df = pd.read_csv(\"../processing_data/4sem_duplicatas.csv\")\n",
    "with open(\"../processing_data/5sem_ponto_e_antes.csv\", \"w\") as file:\n",
    "    writer = csv.writer(file)\n",
    "    writer.writerow(df.columns)\n",
    "    for row in df.values.tolist():\n",
    "        try:\n",
    "            regex_ponto = re.split(\"[+.]\", row[0])\n",
    "            new_name = regex_ponto[1]\n",
    "            row[0] = new_name.lstrip()\n",
    "            writer.writerow(row)\n",
    "        except:\n",
    "            writer.writerow(row)"
   ]
  },
  {
   "cell_type": "markdown",
   "id": "7c81c468",
   "metadata": {},
   "source": [
    "Remover caractéres especiais"
   ]
  },
  {
   "cell_type": "code",
   "execution_count": 83,
   "id": "25fda5d9",
   "metadata": {},
   "outputs": [],
   "source": [
    "df = pd.read_csv(\"../processing_data/5sem_ponto_e_antes.csv\")\n",
    "with open(\"../processing_data/6sem_caracter_especial.csv\", \"w\") as file:\n",
    "    writer = csv.writer(file)\n",
    "    writer.writerow(df.columns)\n",
    "    for row in df.values.tolist():\n",
    "        regex_caractere = re.sub(r\"[^a-zA-Z\\s\\u00C0-\\u00FF]\", \" \", row[0])\n",
    "        row[0] = unidecode(regex_caractere.lstrip())\n",
    "        writer.writerow(row)"
   ]
  },
  {
   "cell_type": "markdown",
   "id": "e0c95dda",
   "metadata": {},
   "source": [
    "Separar nome completo em nome e sobrenome"
   ]
  },
  {
   "cell_type": "code",
   "execution_count": 84,
   "id": "f5d29ed0",
   "metadata": {},
   "outputs": [],
   "source": [
    "df = pd.read_csv(\"../processing_data/6sem_caracter_especial.csv\")\n",
    "new_df = df.copy()\n",
    "writer = csv.writer(file)\n",
    "nome_value = []\n",
    "sobrenome_value = []\n",
    "for row in df.values.tolist():\n",
    "    nome_row = []\n",
    "    sobrenome_row = [] \n",
    "    sub_strings = row[0].split()\n",
    "    # 3 Strings com conjunção\n",
    "    if len(sub_strings) == 3 and (len(sub_strings[1]) <= 3 and len(sub_strings[1]) > 1 ):\n",
    "        nome_row.append(sub_strings[0])\n",
    "        sobrenome_row.append(sub_strings[1])\n",
    "        sobrenome_row.append(sub_strings[2])\n",
    "    # 2 Strings sem conjunção\n",
    "    elif len(sub_strings) == 2:\n",
    "        nome_row.append(sub_strings[0])\n",
    "        sobrenome_row.append(sub_strings[1])\n",
    "    # 3 Strings sem conjunção\n",
    "    elif len(sub_strings) == 3 and len(sub_strings[1]) > 3:\n",
    "        nome_row.append(sub_strings[0])\n",
    "        nome_row.append(sub_strings[1])\n",
    "        sobrenome_row.append(sub_strings[2])\n",
    "    # 4 Strings com conjunção\n",
    "    elif len(sub_strings) == 4:\n",
    "        nome_row.append(sub_strings[0])\n",
    "        nome_row.append(sub_strings[1])\n",
    "        sobrenome_row.append(sub_strings[2])\n",
    "        sobrenome_row.append(sub_strings[3])\n",
    "    nome_value.append(\" \".join(nome_row))\n",
    "    sobrenome_value.append(\" \".join(sobrenome_row))\n",
    "new_df.insert(0, \"Nome\", nome_value, True)\n",
    "new_df.insert(1, \"Sobrenome\", sobrenome_value, True)\n",
    "new_df.drop(\"Nome completo\", axis = 1, inplace = True)\n",
    "new_df.to_csv(\"../processing_data/7separacao_nome_sobrenome.csv\", index=False)"
   ]
  },
  {
   "cell_type": "markdown",
   "id": "e113f6dc",
   "metadata": {},
   "source": [
    "Datas padronizadas"
   ]
  },
  {
   "cell_type": "code",
   "execution_count": 85,
   "id": "5e60cc79",
   "metadata": {},
   "outputs": [
    {
     "name": "stderr",
     "output_type": "stream",
     "text": [
      "/tmp/ipykernel_376/3276985773.py:9: UserWarning: Parsing dates in %d/%m/%Y %H:%M format when dayfirst=False (the default) was specified. Pass `dayfirst=True` or specify a format to silence this warning.\n",
      "  data = pd.to_datetime(row)\n"
     ]
    }
   ],
   "source": [
    "df = pd.read_csv(\"../processing_data/7separacao_nome_sobrenome.csv\")\n",
    "new_df = df.copy()\n",
    "# while True:\n",
    "new_row = []\n",
    "for row in new_df[\"Data Cadastro\"]:\n",
    "    row_temp = []\n",
    "    if row:\n",
    "        try:\n",
    "            data = pd.to_datetime(row)\n",
    "            data_formatada = data.strftime(\"%Y-%m-%d\")\n",
    "            row_temp.append(data_formatada)\n",
    "        except:\n",
    "            row_temp.append(\"invalido\")\n",
    "    new_row.append(\" \".join(row_temp))\n",
    "new_df[\"Data Cadastro\"] = new_row\n",
    "new_df.to_csv(\"../processing_data/8padronizando_data.csv\", index=False)"
   ]
  },
  {
   "cell_type": "markdown",
   "id": "6796e1b1",
   "metadata": {},
   "source": [
    "Novo campo origem arquivo"
   ]
  },
  {
   "cell_type": "code",
   "execution_count": 86,
   "id": "9c9184f6",
   "metadata": {},
   "outputs": [],
   "source": [
    "df = pd.read_csv(\"../processing_data/8padronizando_data.csv\")\n",
    "\n",
    "linha_path = pd.DataFrame([[path] + [\"\"] * (df.shape[1] - 1) ], columns=df.columns)\n",
    "df_final = pd.concat([linha_path, df], ignore_index=True)\n",
    "\n",
    "df_final.to_csv(\"../processing_data/9path_origem.csv\", index=False)"
   ]
  },
  {
   "cell_type": "markdown",
   "id": "4e181a8d",
   "metadata": {},
   "source": [
    "Nova coluna VIP, REGULAR"
   ]
  },
  {
   "cell_type": "code",
   "execution_count": 87,
   "id": "bcb4d53b",
   "metadata": {},
   "outputs": [],
   "source": [
    "df_base = pd.read_csv(\"../processing_data/0csv_base.csv\")\n",
    "\n",
    "client_stat = [\"\"]\n",
    "for row in df_base.values.tolist():\n",
    "    try:\n",
    "        if re.search(\"VIP\", row[4]):\n",
    "            row[4] = \"VIP\"\n",
    "        else:\n",
    "            row[4] = \"REGULAR\"\n",
    "    except:\n",
    "        row[4] = \"REGULAR\"\n",
    "    finally:\n",
    "        client_stat.append(row[4])\n",
    "\n",
    "new_df = pd.read_csv(\"../processing_data/9path_origem.csv\")\n",
    "\n",
    "new_df.insert(4, \"Status do Cliente\", client_stat, True)\n",
    "\n",
    "new_df.to_csv(\"../processing_data/10coluna_vip_regular.csv\", index=False)"
   ]
  },
  {
   "cell_type": "markdown",
   "id": "ad077e1c",
   "metadata": {},
   "source": [
    "Nova coluna UUID"
   ]
  },
  {
   "cell_type": "code",
   "execution_count": 88,
   "id": "a809d8df",
   "metadata": {},
   "outputs": [],
   "source": [
    "df = pd.read_csv(\"../processing_data/10coluna_vip_regular.csv\")\n",
    "\n",
    "hash_cliente = [\"\"]\n",
    "\n",
    "for row in df.values.tolist():\n",
    "    if type(row[2]) != float:\n",
    "        hash_cliente.append(abs(hash(row[2])))\n",
    "\n",
    "new_df = df.copy()\n",
    "\n",
    "new_df.insert(0, \"Hash Cliente\", hash_cliente, True)\n",
    "\n",
    "new_df.to_csv(\"../processing_data/11hash_cliente.csv\", index=False)"
   ]
  },
  {
   "cell_type": "markdown",
   "id": "1d18cfdc",
   "metadata": {},
   "source": [
    "Gerar log de rejeição"
   ]
  },
  {
   "cell_type": "code",
   "execution_count": null,
   "id": "d464ccea",
   "metadata": {},
   "outputs": [],
   "source": [
    "df = pd.read_csv(\"../processing_data/11hash_cliente.csv\")\n",
    "\n",
    "rejeitadas = df[df.iloc[:, -1] == \"invalido\"]\n",
    "\n",
    "new_df = df[df.iloc[:, -1] != \"invalido\"]\n",
    "\n",
    "rejeitadas.to_csv(\"../processing_data/12log_rejeicao.csv\", index=False)\n",
    "new_df.to_csv(\"../processing_data/12log_aceitos.csv\", index=False)"
   ]
  },
  {
   "cell_type": "markdown",
   "id": "591282b3",
   "metadata": {},
   "source": []
  }
 ],
 "metadata": {
  "kernelspec": {
   "display_name": ".venv",
   "language": "python",
   "name": "python3"
  },
  "language_info": {
   "codemirror_mode": {
    "name": "ipython",
    "version": 3
   },
   "file_extension": ".py",
   "mimetype": "text/x-python",
   "name": "python",
   "nbconvert_exporter": "python",
   "pygments_lexer": "ipython3",
   "version": "3.13.5"
  }
 },
 "nbformat": 4,
 "nbformat_minor": 5
}
